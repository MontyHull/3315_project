{
 "metadata": {
  "language_info": {
   "codemirror_mode": {
    "name": "ipython",
    "version": 3
   },
   "file_extension": ".py",
   "mimetype": "text/x-python",
   "name": "python",
   "nbconvert_exporter": "python",
   "pygments_lexer": "ipython3",
   "version": "3.8.6-final"
  },
  "orig_nbformat": 2,
  "kernelspec": {
   "name": "python3",
   "display_name": "Python 3"
  }
 },
 "nbformat": 4,
 "nbformat_minor": 2,
 "cells": [
  {
   "source": [
    "# CS3315 Final Project\n",
    "# Authors: Cameron Woods and Micky Hall \n",
    "\n",
    "## Introduction \n",
    "\n",
    "Throughout this notebook we will be attempting to create a model using supervised learning techniques that can accurately predict the price of an airbnb for a night. We will be using a dataset from kaggle that includes 226,029 rows. Each row represents an individual airbnb listing and includes 15 features and a label which will be discussed in depth at a later point in this notebook. \n",
    "\n",
    "### General Process \n",
    "\n",
    "We began this project by taking all of our unprocessed data and attempting to fit it into a bare bones model using linear regression to see how well it would perform. We then analysed the results and looked for reasons in the large skew in our data. We then went back and looked at the data as a whole and began to munge our data into a more palatable set for future models. We then checked for any increase in performance from our model. We then began to look into feature engineering and hyper parameter tuning for a greater fit. We slowly worked our way to a better model. We then decided to attempt to run our data in a neural network and see how well that would predict our label. All in all our models ended up predicting with a mse of %%%.  "
   ],
   "cell_type": "markdown",
   "metadata": {}
  },
  {
   "cell_type": "code",
   "execution_count": 37,
   "metadata": {},
   "outputs": [],
   "source": [
    "import pandas as pd \n",
    "\n",
    "df = pd.read_csv(\"AB_US_2020.csv\")\n"
   ]
  },
  {
   "cell_type": "code",
   "execution_count": 38,
   "metadata": {},
   "outputs": [
    {
     "output_type": "stream",
     "name": "stdout",
     "text": [
      "<class 'pandas.core.frame.DataFrame'>\nRangeIndex: 226029 entries, 0 to 226028\nData columns (total 17 columns):\n #   Column                          Non-Null Count   Dtype  \n---  ------                          --------------   -----  \n 0   id                              226029 non-null  int64  \n 1   name                            226001 non-null  object \n 2   host_id                         226029 non-null  int64  \n 3   host_name                       225996 non-null  object \n 4   neighbourhood_group             110185 non-null  object \n 5   neighbourhood                   226029 non-null  object \n 6   latitude                        226029 non-null  float64\n 7   longitude                       226029 non-null  float64\n 8   room_type                       226029 non-null  object \n 9   price                           226029 non-null  int64  \n 10  minimum_nights                  226029 non-null  int64  \n 11  number_of_reviews               226029 non-null  int64  \n 12  last_review                     177427 non-null  object \n 13  reviews_per_month               177427 non-null  float64\n 14  calculated_host_listings_count  226029 non-null  int64  \n 15  availability_365                226029 non-null  int64  \n 16  city                            226029 non-null  object \ndtypes: float64(3), int64(7), object(7)\nmemory usage: 29.3+ MB\n"
     ]
    }
   ],
   "source": [
    "df.head()\n",
    "df.info()"
   ]
  },
  {
   "cell_type": "code",
   "execution_count": 39,
   "metadata": {},
   "outputs": [
    {
     "output_type": "stream",
     "name": "stdout",
     "text": [
      "<class 'pandas.core.frame.DataFrame'>\nRangeIndex: 226029 entries, 0 to 226028\nData columns (total 11 columns):\n #   Column                          Non-Null Count   Dtype  \n---  ------                          --------------   -----  \n 0   id                              226029 non-null  int64  \n 1   host_id                         226029 non-null  int64  \n 2   latitude                        226029 non-null  float64\n 3   longitude                       226029 non-null  float64\n 4   room_type                       226029 non-null  object \n 5   price                           226029 non-null  int64  \n 6   minimum_nights                  226029 non-null  int64  \n 7   number_of_reviews               226029 non-null  int64  \n 8   reviews_per_month               177427 non-null  float64\n 9   calculated_host_listings_count  226029 non-null  int64  \n 10  availability_365                226029 non-null  int64  \ndtypes: float64(3), int64(7), object(1)\nmemory usage: 19.0+ MB\n"
     ]
    }
   ],
   "source": [
    "del df[\"name\"]\n",
    "del df[\"host_name\"]\n",
    "del df[\"neighbourhood_group\"]\n",
    "del df[\"city\"]\n",
    "del df[\"neighbourhood\"]\n",
    "del df[\"last_review\"]\n",
    "\n",
    "\n",
    "df.head()\n",
    "df.info()\n"
   ]
  },
  {
   "cell_type": "code",
   "execution_count": 40,
   "metadata": {},
   "outputs": [],
   "source": [
    "del df[\"reviews_per_month\"]"
   ]
  },
  {
   "cell_type": "code",
   "execution_count": 41,
   "metadata": {},
   "outputs": [
    {
     "output_type": "execute_result",
     "data": {
      "text/plain": [
       "       id  host_id  latitude  ...  Entire home/apt  Hotel room  Shared room\n",
       "0   38585   165529  35.65146  ...                0           0            0\n",
       "1   80905   427027  35.59779  ...                1           0            0\n",
       "2  108061   320564  35.60670  ...                1           0            0\n",
       "3  155305   746673  35.57864  ...                1           0            0\n",
       "4  160594   769252  35.61442  ...                0           0            0\n",
       "\n",
       "[5 rows x 13 columns]"
      ],
      "text/html": "<div>\n<style scoped>\n    .dataframe tbody tr th:only-of-type {\n        vertical-align: middle;\n    }\n\n    .dataframe tbody tr th {\n        vertical-align: top;\n    }\n\n    .dataframe thead th {\n        text-align: right;\n    }\n</style>\n<table border=\"1\" class=\"dataframe\">\n  <thead>\n    <tr style=\"text-align: right;\">\n      <th></th>\n      <th>id</th>\n      <th>host_id</th>\n      <th>latitude</th>\n      <th>longitude</th>\n      <th>price</th>\n      <th>minimum_nights</th>\n      <th>number_of_reviews</th>\n      <th>calculated_host_listings_count</th>\n      <th>availability_365</th>\n      <th>Private room</th>\n      <th>Entire home/apt</th>\n      <th>Hotel room</th>\n      <th>Shared room</th>\n    </tr>\n  </thead>\n  <tbody>\n    <tr>\n      <th>0</th>\n      <td>38585</td>\n      <td>165529</td>\n      <td>35.65146</td>\n      <td>-82.62792</td>\n      <td>60</td>\n      <td>1</td>\n      <td>138</td>\n      <td>1</td>\n      <td>0</td>\n      <td>1</td>\n      <td>0</td>\n      <td>0</td>\n      <td>0</td>\n    </tr>\n    <tr>\n      <th>1</th>\n      <td>80905</td>\n      <td>427027</td>\n      <td>35.59779</td>\n      <td>-82.55540</td>\n      <td>470</td>\n      <td>1</td>\n      <td>114</td>\n      <td>11</td>\n      <td>288</td>\n      <td>0</td>\n      <td>1</td>\n      <td>0</td>\n      <td>0</td>\n    </tr>\n    <tr>\n      <th>2</th>\n      <td>108061</td>\n      <td>320564</td>\n      <td>35.60670</td>\n      <td>-82.55563</td>\n      <td>75</td>\n      <td>30</td>\n      <td>89</td>\n      <td>2</td>\n      <td>298</td>\n      <td>0</td>\n      <td>1</td>\n      <td>0</td>\n      <td>0</td>\n    </tr>\n    <tr>\n      <th>3</th>\n      <td>155305</td>\n      <td>746673</td>\n      <td>35.57864</td>\n      <td>-82.59578</td>\n      <td>90</td>\n      <td>1</td>\n      <td>267</td>\n      <td>5</td>\n      <td>0</td>\n      <td>0</td>\n      <td>1</td>\n      <td>0</td>\n      <td>0</td>\n    </tr>\n    <tr>\n      <th>4</th>\n      <td>160594</td>\n      <td>769252</td>\n      <td>35.61442</td>\n      <td>-82.54127</td>\n      <td>125</td>\n      <td>30</td>\n      <td>58</td>\n      <td>1</td>\n      <td>0</td>\n      <td>1</td>\n      <td>0</td>\n      <td>0</td>\n      <td>0</td>\n    </tr>\n  </tbody>\n</table>\n</div>"
     },
     "metadata": {},
     "execution_count": 41
    }
   ],
   "source": [
    "def oneHot(category, hot):\n",
    "    if category == hot:\n",
    "        return 1\n",
    "    else:\n",
    "        return 0\n",
    "\n",
    "dict={}\n",
    "for room in df['room_type'].tolist():\n",
    "    dict[room]=1\n",
    "    \n",
    "for room in dict.keys():\n",
    "    df[room] = df['room_type'].apply(oneHot, hot=room)\n",
    "\n",
    "df = df.drop(['room_type'],axis=1)\n",
    "df.head()"
   ]
  },
  {
   "cell_type": "code",
   "execution_count": 42,
   "metadata": {},
   "outputs": [],
   "source": [
    "from sklearn.model_selection import train_test_split\n",
    "from sklearn.preprocessing import StandardScaler\n",
    "from sklearn.impute import KNNImputer\n",
    "from sklearn.impute import SimpleImputer\n",
    "\n",
    "\n",
    "#imp = SimpleImputer(missing_values=np.nan, strategy='mean')\n",
    "#imp.fit(df)\n",
    "#transformed_df = imp.transform(df)\n",
    "#new_df = pd.DataFrame(transformed_df,columns=df.columns,index=df.index)\n",
    "\n",
    "X = df.drop([\"price\"],axis=1)\n",
    "y = df[\"price\"]\n",
    "\n",
    "#imputer = KNNImputer(n_neighbors=2, weights=\"uniform\")\n",
    "#imputer.fit_transform(X)\n",
    "\n",
    "X_train, X_val, y_train, y_val = train_test_split(X, y, test_size=0.20, random_state=42)\n",
    "\n",
    "\n",
    "sc = StandardScaler()\n",
    "X_train = sc.fit_transform(X_train)\n",
    "X_val = sc.transform(X_val)"
   ]
  },
  {
   "cell_type": "code",
   "execution_count": 110,
   "metadata": {},
   "outputs": [
    {
     "output_type": "execute_result",
     "data": {
      "text/plain": [
       "LinearRegression()"
      ]
     },
     "metadata": {},
     "execution_count": 110
    }
   ],
   "source": [
    "from sklearn.linear_model import LinearRegression\n",
    "from sklearn.metrics import mean_squared_error\n",
    "import numpy as np\n",
    "sgd_reg = LinearRegression()\n",
    "sgd_reg.fit(X_train, y_train) # continues where it left off\n",
    "\n"
   ]
  },
  {
   "cell_type": "code",
   "execution_count": 111,
   "metadata": {},
   "outputs": [
    {
     "output_type": "stream",
     "name": "stdout",
     "text": [
      "171005.66879026606\n"
     ]
    }
   ],
   "source": [
    "from math import sqrt\n",
    "y_val_predict = sgd_reg.predict(X_val)\n",
    "val_error = sqrt(mean_squared_error(y_val, y_val_predict))\n",
    "print(val_error)"
   ]
  },
  {
   "cell_type": "code",
   "execution_count": 126,
   "metadata": {},
   "outputs": [
    {
     "output_type": "execute_result",
     "data": {
      "text/plain": [
       "0.0799059892283367"
      ]
     },
     "metadata": {},
     "execution_count": 126
    }
   ],
   "source": [
    "y.mean()\n",
    "y.std()\n",
    "y.describe()\n",
    "y_val_predict.sort()\n",
    "y_val_predict[658]"
   ]
  },
  {
   "cell_type": "code",
   "execution_count": null,
   "metadata": {},
   "outputs": [],
   "source": []
  }
 ]
}