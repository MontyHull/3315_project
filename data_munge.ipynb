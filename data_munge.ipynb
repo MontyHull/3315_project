{
 "metadata": {
  "language_info": {
   "codemirror_mode": {
    "name": "ipython",
    "version": 3
   },
   "file_extension": ".py",
   "mimetype": "text/x-python",
   "name": "python",
   "nbconvert_exporter": "python",
   "pygments_lexer": "ipython3",
   "version": "3.8.6-final"
  },
  "orig_nbformat": 2,
  "kernelspec": {
   "name": "python3",
   "display_name": "Python 3"
  }
 },
 "nbformat": 4,
 "nbformat_minor": 2,
 "cells": [
  {
   "source": [
    "# CS3315 Final Project\n",
    "# Authors: Cameron Woods and Micky Hall \n",
    "\n",
    "## Introduction \n",
    "\n",
    "Throughout this notebook we will be attempting to create a model using supervised learning techniques that can accurately predict the price of an airbnb for a night. We will be using a dataset from kaggle that includes 226,029 rows. Each row represents an individual airbnb listing and includes 15 features and a label which will be discussed in depth at a later point in this notebook. \n",
    "\n",
    "### General Process \n",
    "\n",
    "We began this project by taking all of our unprocessed data and attempting to fit it into a bare bones model using linear regression to see how well it would perform. We then analysed the results and looked for reasons in the large skew in our predictions. We then went back and looked at the data as a whole and began to munge our data into a more palatable set for future models. We then checked for any increase in performance from our model. We then began to look into feature engineering and hyper parameter tuning for a greater fit. We slowly worked our way to a better model. We then decided to attempt to run our data in a neural network and see how well that would predict our label. All in all our models ended up predicting with a mse of %%%.  "
   ],
   "cell_type": "markdown",
   "metadata": {}
  },
  {
   "cell_type": "code",
   "execution_count": 15,
   "metadata": {},
   "outputs": [],
   "source": [
    "# Quick and dirty \n",
    "import pandas as pd \n",
    "df = pd.read_csv(\"AB_US_2020.csv\")\n",
    "\n",
    "del df[\"name\"]\n",
    "del df[\"host_name\"]\n",
    "del df[\"neighbourhood_group\"]\n",
    "del df[\"city\"]\n",
    "del df[\"neighbourhood\"]\n",
    "del df[\"last_review\"]\n",
    "del df[\"reviews_per_month\"]\n",
    "\n",
    "df.to_csv(\"mungies.csv\")"
   ]
  },
  {
   "cell_type": "code",
   "execution_count": 3,
   "metadata": {},
   "outputs": [],
   "source": [
    "def oneHot(category, hot):\n",
    "    if category == hot:\n",
    "        return 1\n",
    "    else:\n",
    "        return 0\n",
    "\n",
    "dict={}\n",
    "for room in df['room_type'].tolist():\n",
    "    dict[room]=1\n",
    "    \n",
    "for room in dict.keys():\n",
    "    df[room] = df['room_type'].apply(oneHot, hot=room)\n",
    "\n",
    "df = df.drop(['room_type'],axis=1)"
   ]
  },
  {
   "cell_type": "code",
   "execution_count": 4,
   "metadata": {},
   "outputs": [],
   "source": [
    "from sklearn.model_selection import train_test_split\n",
    "from sklearn.preprocessing import StandardScaler\n",
    "from sklearn.impute import KNNImputer\n",
    "from sklearn.impute import SimpleImputer\n",
    "\n",
    "X = df.drop([\"price\"],axis=1)\n",
    "y = df[\"price\"]\n",
    "\n",
    "X_train, X_val, y_train, y_val = train_test_split(X, y, test_size=0.20, random_state=42)\n",
    "\n",
    "sc = StandardScaler()\n",
    "X_train = sc.fit_transform(X_train)\n",
    "X_val = sc.transform(X_val)\n"
   ]
  },
  {
   "cell_type": "code",
   "execution_count": 14,
   "metadata": {},
   "outputs": [
    {
     "output_type": "stream",
     "name": "stdout",
     "text": [
      "171005.66879026606\n"
     ]
    }
   ],
   "source": [
    "from sklearn.linear_model import LinearRegression\n",
    "from sklearn.metrics import mean_squared_error\n",
    "import numpy as np\n",
    "from math import sqrt\n",
    "\n",
    "sgd_reg = LinearRegression()\n",
    "sgd_reg.fit(X_train, y_train) \n",
    "y_val_predict = sgd_reg.predict(X_val)\n",
    "val_error = sqrt(mean_squared_error(y_val, y_val_predict))\n",
    "print(val_error)"
   ]
  }
 ]
}